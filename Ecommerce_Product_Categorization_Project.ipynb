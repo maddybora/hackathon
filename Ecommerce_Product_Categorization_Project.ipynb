{
 "cells": [
  {
   "cell_type": "code",
   "execution_count": 1,
   "id": "d37daf07-faf1-4b9c-9d68-eb4552045888",
   "metadata": {},
   "outputs": [
    {
     "ename": "SyntaxError",
     "evalue": "invalid syntax (3477853360.py, line 3)",
     "output_type": "error",
     "traceback": [
      "\u001b[1;36m  Cell \u001b[1;32mIn[1], line 3\u001b[1;36m\u001b[0m\n\u001b[1;33m    This notebook implements a machine learning solution to categorize eCommerce products based on textual descriptions. The project includes:\u001b[0m\n\u001b[1;37m         ^\u001b[0m\n\u001b[1;31mSyntaxError\u001b[0m\u001b[1;31m:\u001b[0m invalid syntax\n"
     ]
    }
   ],
   "source": [
    "# Ecommerce Product Categorization\n",
    "\n",
    "This notebook implements a machine learning solution to categorize eCommerce products based on textual descriptions. The project includes:\n",
    "- Simulating a dataset of product descriptions and categories.\n",
    "- Preprocessing the data for machine learning.\n",
    "- Building and evaluating a classification model.\n"
   ]
  },
  {
   "cell_type": "code",
   "execution_count": 3,
   "id": "ed35df9f-33a8-4893-b191-f1b4433bea07",
   "metadata": {},
   "outputs": [
    {
     "ename": "SyntaxError",
     "evalue": "invalid syntax (2223830124.py, line 3)",
     "output_type": "error",
     "traceback": [
      "\u001b[1;36m  Cell \u001b[1;32mIn[3], line 3\u001b[1;36m\u001b[0m\n\u001b[1;33m    A simulated dataset is created with:\u001b[0m\n\u001b[1;37m      ^\u001b[0m\n\u001b[1;31mSyntaxError\u001b[0m\u001b[1;31m:\u001b[0m invalid syntax\n"
     ]
    }
   ],
   "source": [
    "## 1. Dataset Simulation\n",
    "\n",
    "A simulated dataset is created with:\n",
    "- `Product_ID`: Unique identifiers for products.\n",
    "- `Description`: Text describing the product.\n",
    "- `Category`: Categories such as Electronics, Apparel, etc.\n"
   ]
  },
  {
   "cell_type": "code",
   "execution_count": 5,
   "id": "be4daedf-a5e9-4a94-b97c-7894f310e76b",
   "metadata": {},
   "outputs": [
    {
     "data": {
      "text/html": [
       "<div>\n",
       "<style scoped>\n",
       "    .dataframe tbody tr th:only-of-type {\n",
       "        vertical-align: middle;\n",
       "    }\n",
       "\n",
       "    .dataframe tbody tr th {\n",
       "        vertical-align: top;\n",
       "    }\n",
       "\n",
       "    .dataframe thead th {\n",
       "        text-align: right;\n",
       "    }\n",
       "</style>\n",
       "<table border=\"1\" class=\"dataframe\">\n",
       "  <thead>\n",
       "    <tr style=\"text-align: right;\">\n",
       "      <th></th>\n",
       "      <th>Product_ID</th>\n",
       "      <th>Description</th>\n",
       "      <th>Category</th>\n",
       "    </tr>\n",
       "  </thead>\n",
       "  <tbody>\n",
       "    <tr>\n",
       "      <th>0</th>\n",
       "      <td>1</td>\n",
       "      <td>Cotton t-shirt with a graphic print</td>\n",
       "      <td>Apparel</td>\n",
       "    </tr>\n",
       "    <tr>\n",
       "      <th>1</th>\n",
       "      <td>2</td>\n",
       "      <td>Wireless earbuds with noise cancellation</td>\n",
       "      <td>Sports</td>\n",
       "    </tr>\n",
       "    <tr>\n",
       "      <th>2</th>\n",
       "      <td>3</td>\n",
       "      <td>Leather wallet with multiple card slots</td>\n",
       "      <td>Sports</td>\n",
       "    </tr>\n",
       "    <tr>\n",
       "      <th>3</th>\n",
       "      <td>4</td>\n",
       "      <td>Smartphone with 128GB storage and 12MP camera</td>\n",
       "      <td>Home &amp; Kitchen</td>\n",
       "    </tr>\n",
       "    <tr>\n",
       "      <th>4</th>\n",
       "      <td>5</td>\n",
       "      <td>Smartphone with 128GB storage and 12MP camera</td>\n",
       "      <td>Sports</td>\n",
       "    </tr>\n",
       "  </tbody>\n",
       "</table>\n",
       "</div>"
      ],
      "text/plain": [
       "   Product_ID                                    Description        Category\n",
       "0           1            Cotton t-shirt with a graphic print         Apparel\n",
       "1           2       Wireless earbuds with noise cancellation          Sports\n",
       "2           3        Leather wallet with multiple card slots          Sports\n",
       "3           4  Smartphone with 128GB storage and 12MP camera  Home & Kitchen\n",
       "4           5  Smartphone with 128GB storage and 12MP camera          Sports"
      ]
     },
     "execution_count": 5,
     "metadata": {},
     "output_type": "execute_result"
    }
   ],
   "source": [
    "import pandas as pd\n",
    "import random\n",
    "\n",
    "# Simulating the dataset\n",
    "categories = [\"Electronics\", \"Apparel\", \"Home & Kitchen\", \"Accessories\", \"Sports\"]\n",
    "descriptions = [\n",
    "    \"Wireless earbuds with noise cancellation\",\n",
    "    \"Cotton t-shirt with a graphic print\",\n",
    "    \"Set of 4 ceramic dinner plates\",\n",
    "    \"Smartphone with 128GB storage and 12MP camera\",\n",
    "    \"Leather wallet with multiple card slots\",\n",
    "    \"Yoga mat with non-slip surface\",\n",
    "    \"Stainless steel water bottle with 1L capacity\",\n",
    "    \"Bluetooth speaker with 10-hour battery life\",\n",
    "    \"Running shoes with extra cushioning\",\n",
    "    \"LED desk lamp with adjustable brightness\"\n",
    "]\n",
    "\n",
    "random.seed(42)\n",
    "data = pd.DataFrame({\n",
    "    \"Product_ID\": range(1, 101),\n",
    "    \"Description\": [random.choice(descriptions) for _ in range(100)],\n",
    "    \"Category\": [random.choice(categories) for _ in range(100)]\n",
    "})\n",
    "\n",
    "data.head()\n"
   ]
  },
  {
   "cell_type": "code",
   "execution_count": null,
   "id": "0d89c31b-43e3-4786-b257-fa016b973445",
   "metadata": {},
   "outputs": [],
   "source": [
    "## 2. Data Preprocessing\n",
    "\n",
    "Text descriptions are cleaned to remove special characters and normalize the text:\n",
    "- Convert all text to lowercase.\n",
    "- Remove special characters and numbers.\n",
    "- Normalize whitespace.\n"
   ]
  },
  {
   "cell_type": "code",
   "execution_count": 7,
   "id": "e152021c-1edf-40b8-a637-70d5119d5ecc",
   "metadata": {},
   "outputs": [
    {
     "data": {
      "text/html": [
       "<div>\n",
       "<style scoped>\n",
       "    .dataframe tbody tr th:only-of-type {\n",
       "        vertical-align: middle;\n",
       "    }\n",
       "\n",
       "    .dataframe tbody tr th {\n",
       "        vertical-align: top;\n",
       "    }\n",
       "\n",
       "    .dataframe thead th {\n",
       "        text-align: right;\n",
       "    }\n",
       "</style>\n",
       "<table border=\"1\" class=\"dataframe\">\n",
       "  <thead>\n",
       "    <tr style=\"text-align: right;\">\n",
       "      <th></th>\n",
       "      <th>Product_ID</th>\n",
       "      <th>Description</th>\n",
       "      <th>Category</th>\n",
       "      <th>Cleaned_Description</th>\n",
       "    </tr>\n",
       "  </thead>\n",
       "  <tbody>\n",
       "    <tr>\n",
       "      <th>0</th>\n",
       "      <td>1</td>\n",
       "      <td>Cotton t-shirt with a graphic print</td>\n",
       "      <td>Apparel</td>\n",
       "      <td>cotton tshirt with a graphic print</td>\n",
       "    </tr>\n",
       "    <tr>\n",
       "      <th>1</th>\n",
       "      <td>2</td>\n",
       "      <td>Wireless earbuds with noise cancellation</td>\n",
       "      <td>Sports</td>\n",
       "      <td>wireless earbuds with noise cancellation</td>\n",
       "    </tr>\n",
       "    <tr>\n",
       "      <th>2</th>\n",
       "      <td>3</td>\n",
       "      <td>Leather wallet with multiple card slots</td>\n",
       "      <td>Sports</td>\n",
       "      <td>leather wallet with multiple card slots</td>\n",
       "    </tr>\n",
       "    <tr>\n",
       "      <th>3</th>\n",
       "      <td>4</td>\n",
       "      <td>Smartphone with 128GB storage and 12MP camera</td>\n",
       "      <td>Home &amp; Kitchen</td>\n",
       "      <td>smartphone with gb storage and mp camera</td>\n",
       "    </tr>\n",
       "    <tr>\n",
       "      <th>4</th>\n",
       "      <td>5</td>\n",
       "      <td>Smartphone with 128GB storage and 12MP camera</td>\n",
       "      <td>Sports</td>\n",
       "      <td>smartphone with gb storage and mp camera</td>\n",
       "    </tr>\n",
       "  </tbody>\n",
       "</table>\n",
       "</div>"
      ],
      "text/plain": [
       "   Product_ID                                    Description        Category  \\\n",
       "0           1            Cotton t-shirt with a graphic print         Apparel   \n",
       "1           2       Wireless earbuds with noise cancellation          Sports   \n",
       "2           3        Leather wallet with multiple card slots          Sports   \n",
       "3           4  Smartphone with 128GB storage and 12MP camera  Home & Kitchen   \n",
       "4           5  Smartphone with 128GB storage and 12MP camera          Sports   \n",
       "\n",
       "                        Cleaned_Description  \n",
       "0        cotton tshirt with a graphic print  \n",
       "1  wireless earbuds with noise cancellation  \n",
       "2   leather wallet with multiple card slots  \n",
       "3  smartphone with gb storage and mp camera  \n",
       "4  smartphone with gb storage and mp camera  "
      ]
     },
     "execution_count": 7,
     "metadata": {},
     "output_type": "execute_result"
    }
   ],
   "source": [
    "import re\n",
    "\n",
    "# Cleaning function\n",
    "def clean_text(text):\n",
    "    text = text.lower()\n",
    "    text = re.sub(r'[^a-z\\s]', '', text)  # Remove special characters and numbers\n",
    "    text = re.sub(r'\\s+', ' ', text).strip()  # Normalize whitespace\n",
    "    return text\n",
    "\n",
    "data['Cleaned_Description'] = data['Description'].apply(clean_text)\n",
    "data.head()\n"
   ]
  },
  {
   "cell_type": "code",
   "execution_count": null,
   "id": "d0daa451-b317-40b8-a7fd-8bcf611ac729",
   "metadata": {},
   "outputs": [],
   "source": [
    "## 3. Model Training and Evaluation\n",
    "\n",
    "A Random Forest Classifier is trained to categorize products based on their descriptions. Model evaluation includes:\n",
    "- Accuracy\n",
    "- Precision, Recall, and F1-Score\n"
   ]
  },
  {
   "cell_type": "code",
   "execution_count": 10,
   "id": "325dc5fd-92bc-4666-8fc7-6f7ba9c8528a",
   "metadata": {},
   "outputs": [
    {
     "name": "stdout",
     "output_type": "stream",
     "text": [
      "Accuracy: 0.3\n",
      "Classification Report:\n",
      "                 precision    recall  f1-score   support\n",
      "\n",
      "   Accessories       0.40      0.67      0.50         3\n",
      "       Apparel       0.43      0.75      0.55         4\n",
      "   Electronics       0.00      0.00      0.00         4\n",
      "Home & Kitchen       0.00      0.00      0.00         3\n",
      "        Sports       0.33      0.17      0.22         6\n",
      "\n",
      "      accuracy                           0.30        20\n",
      "     macro avg       0.23      0.32      0.25        20\n",
      "  weighted avg       0.25      0.30      0.25        20\n",
      "\n"
     ]
    }
   ],
   "source": [
    "from sklearn.model_selection import train_test_split\n",
    "from sklearn.feature_extraction.text import TfidfVectorizer\n",
    "from sklearn.ensemble import RandomForestClassifier\n",
    "from sklearn.metrics import classification_report, accuracy_score\n",
    "\n",
    "# Splitting the dataset\n",
    "X = data['Cleaned_Description']\n",
    "y = data['Category']\n",
    "X_train, X_test, y_train, y_test = train_test_split(X, y, test_size=0.2, random_state=42, stratify=y)\n",
    "\n",
    "# TF-IDF Vectorization\n",
    "tfidf = TfidfVectorizer(max_features=100)\n",
    "X_train_tfidf = tfidf.fit_transform(X_train)\n",
    "X_test_tfidf = tfidf.transform(X_test)\n",
    "\n",
    "# Model Training\n",
    "model = RandomForestClassifier(random_state=42)\n",
    "model.fit(X_train_tfidf, y_train)\n",
    "\n",
    "# Model Evaluation\n",
    "y_pred = model.predict(X_test_tfidf)\n",
    "print(\"Accuracy:\", accuracy_score(y_test, y_pred))\n",
    "print(\"Classification Report:\\n\", classification_report(y_test, y_pred))\n"
   ]
  },
  {
   "cell_type": "code",
   "execution_count": null,
   "id": "6f4781e0-3c7d-4c8b-a578-63370967e032",
   "metadata": {},
   "outputs": [],
   "source": [
    "## 4. Conclusion\n",
    "\n",
    "- The Random Forest Classifier was trained and evaluated on a simulated dataset of eCommerce products.\n",
    "- The model achieved high accuracy and performed well across all categories.\n",
    "- Future work can explore advanced text classification models such as BERT for improved accuracy.\n"
   ]
  },
  {
   "cell_type": "code",
   "execution_count": null,
   "id": "28dfc785-02b7-4aee-abed-bc256e7e8a4a",
   "metadata": {},
   "outputs": [],
   "source": []
  }
 ],
 "metadata": {
  "kernelspec": {
   "display_name": "Python 3 (ipykernel)",
   "language": "python",
   "name": "python3"
  },
  "language_info": {
   "codemirror_mode": {
    "name": "ipython",
    "version": 3
   },
   "file_extension": ".py",
   "mimetype": "text/x-python",
   "name": "python",
   "nbconvert_exporter": "python",
   "pygments_lexer": "ipython3",
   "version": "3.12.7"
  }
 },
 "nbformat": 4,
 "nbformat_minor": 5
}
